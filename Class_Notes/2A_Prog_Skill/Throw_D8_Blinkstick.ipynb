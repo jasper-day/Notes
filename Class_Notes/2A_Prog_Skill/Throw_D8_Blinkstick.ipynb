{
 "cells": [
  {
   "cell_type": "markdown",
   "metadata": {},
   "source": [
    "# Rolling an eight sided dice\n",
    "\n",
    "This example constructs a program to roll an eight sided dice (sometimes called a D8).  Why a D8? Well the blinkstick square has 8 LEDs.\n",
    "\n",
    "The program steps are as follows:\n",
    "1. initialise the blinkstick, checking one is connected,\n",
    "2. generate a random number, called throw, between 1 and 8,\n",
    "3. light up the required number of LEDs.  Rembering that the LEDs on the blink stick are numbered 0 to 7\n",
    "\n",
    "lets try that in python"
   ]
  },
  {
   "cell_type": "code",
   "execution_count": 12,
   "metadata": {},
   "outputs": [
    {
     "name": "stdout",
     "output_type": "stream",
     "text": [
      "6\n"
     ]
    }
   ],
   "source": [
    "import random # we need a random number generator\n",
    "from blinkstick import blinkstick\n",
    "\n",
    "# find the first available blinkstick\n",
    "bstick = blinkstick.find_first()\n",
    "if bstick is None:\n",
    "    print(\"The Blinkstick is not connected, either plug it in \" \\\n",
    "    +\" or check your USB cable supports data and power!\")\n",
    "else:\n",
    "    # generate a random integer in the range 1 to 8.\n",
    "    throw = random.randrange(1, 8)\n",
    "    # print it out so we know what we threw\n",
    "    print(throw)\n",
    "\n",
    "    # now light that many LEDs\n",
    "    for led in range(0,throw):\n",
    "        bstick.set_color(index=led,name=\"red\")"
   ]
  },
  {
   "cell_type": "code",
   "execution_count": 13,
   "metadata": {},
   "outputs": [],
   "source": [
    "bstick = blinkstick.find_first()\n",
    "bstick.turn_off()"
   ]
  },
  {
   "cell_type": "markdown",
   "metadata": {},
   "source": [
    "## diagonistics\n",
    "\n",
    "We the program works but it leaves all the LEDs on and only runs once.  \n",
    "\n",
    "What we need is a loop which keeps going until we've finished and then closes down the blinkstick.\n",
    "\n",
    "We can keep asking the user if they want to throw again, while they say yes (or y).\n",
    "\n",
    "The steps now looks like this:\n",
    "1. initialise the blinkstick\n",
    "2. set again to 'y'\n",
    "3. while again is 'y'\n",
    "    1. generate a random integer in the range 1 to 8.\n",
    "    2. light that many LEDs\n",
    "    3. ask if they want to do it again?\n",
    "4. close down the blink sitck"
   ]
  },
  {
   "cell_type": "code",
   "execution_count": 14,
   "metadata": {},
   "outputs": [
    {
     "name": "stdout",
     "output_type": "stream",
     "text": [
      "1\n"
     ]
    },
    {
     "name": "stdin",
     "output_type": "stream",
     "text": [
      "throw again (y/n)? y\n"
     ]
    },
    {
     "name": "stdout",
     "output_type": "stream",
     "text": [
      "5\n"
     ]
    },
    {
     "name": "stdin",
     "output_type": "stream",
     "text": [
      "throw again (y/n)? y\n"
     ]
    },
    {
     "name": "stdout",
     "output_type": "stream",
     "text": [
      "1\n"
     ]
    },
    {
     "name": "stdin",
     "output_type": "stream",
     "text": [
      "throw again (y/n)? n\n"
     ]
    }
   ],
   "source": [
    "import random # we need a random number generator\n",
    "from blinkstick import blinkstick\n",
    "\n",
    "# find the first available blinkstick\n",
    "bstick = blinkstick.find_first()\n",
    "if bstick is None:\n",
    "    print(\"The Blinkstick is not connected, either plug it in \" \\\n",
    "    +\" or check your USB cable supports data and power!\")\n",
    "else:\n",
    "    AGAIN = \"y\" # Initialise AGAIN\n",
    "    while AGAIN == \"y\":\n",
    "        # generate a random integer in the range 1 to 8.\n",
    "        throw = random.randrange(1, 8)\n",
    "        # print it out so we know what we threw\n",
    "        print(throw)\n",
    "\n",
    "        # now light that many LEDs\n",
    "        for led in range(0,throw):\n",
    "            bstick.set_color(index=led,name=\"darkblue\")\n",
    "            \n",
    "        AGAIN = input('throw again (y/n)?')\n",
    "        \n",
    "    # turn off the blinkstick\n",
    "    bstick.turn_off()    "
   ]
  },
  {
   "cell_type": "markdown",
   "metadata": {},
   "source": [
    "## problem 2\n",
    "\n",
    "It's still not doing quite what we want.  LEDs which have been lit stay on so we can only see the highest number thrown.\n",
    "\n",
    "Problems like this are called bugs https://en.wikipedia.org/wiki/Software_bug named in honour of the moth that created havock in an early computer.\n",
    "\n",
    "Clearly we need to turn off the LEDs before each throw.  We better also turn them off at the end."
   ]
  },
  {
   "cell_type": "code",
   "execution_count": 15,
   "metadata": {},
   "outputs": [
    {
     "name": "stdout",
     "output_type": "stream",
     "text": [
      "2\n"
     ]
    },
    {
     "name": "stdin",
     "output_type": "stream",
     "text": [
      "throw again (y/n)? y\n"
     ]
    },
    {
     "name": "stdout",
     "output_type": "stream",
     "text": [
      "3\n"
     ]
    },
    {
     "name": "stdin",
     "output_type": "stream",
     "text": [
      "throw again (y/n)? y\n"
     ]
    },
    {
     "name": "stdout",
     "output_type": "stream",
     "text": [
      "5\n"
     ]
    },
    {
     "name": "stdin",
     "output_type": "stream",
     "text": [
      "throw again (y/n)? y\n"
     ]
    },
    {
     "name": "stdout",
     "output_type": "stream",
     "text": [
      "7\n"
     ]
    },
    {
     "name": "stdin",
     "output_type": "stream",
     "text": [
      "throw again (y/n)? y\n"
     ]
    },
    {
     "name": "stdout",
     "output_type": "stream",
     "text": [
      "1\n"
     ]
    },
    {
     "name": "stdin",
     "output_type": "stream",
     "text": [
      "throw again (y/n)? n\n"
     ]
    }
   ],
   "source": [
    "import random # we need a random number generator\n",
    "from blinkstick import blinkstick\n",
    "\n",
    "# find the first available blinkstick\n",
    "bstick = blinkstick.find_first()\n",
    "if bstick is None:\n",
    "    print(\"The Blinkstick is not connected, either plug it in \" \\\n",
    "    +\" or check your USB cable supports data and power!\")\n",
    "else:\n",
    "    AGAIN = \"y\" # initialise AGAIN\n",
    "    while AGAIN == \"y\":\n",
    "        # generate a random integer in the range 1 to 8.\n",
    "        throw = random.randrange(1, 8)\n",
    "        # print it out so we know what we threw\n",
    "        print(throw)\n",
    "\n",
    "        # turn off all the LEDs\n",
    "        for led in range(0,8):\n",
    "            bstick.set_color(index=led,name=\"black\")\n",
    "\n",
    "        # now light that many LEDs\n",
    "        for led in range(0,throw):\n",
    "            bstick.set_color(index=led,name=\"yellow\")\n",
    "            \n",
    "        AGAIN = input('throw again (y/n)?')\n",
    "        \n",
    "    # turn off all the LEDs\n",
    "    for led in range(1,8):\n",
    "        bstick.set_color(index=led,name=\"black\")\n",
    "    \n",
    "    # turn off the blinkstick\n",
    "    bstick.turn_off()    "
   ]
  },
  {
   "cell_type": "markdown",
   "metadata": {},
   "source": [
    "## The production version\n",
    "\n",
    "Now we know it works we can remove the print statement and write a short function to turn everything off.  The function is a useful thing as we were repeating the code to turn off all the LEDs twice (once in the loop and once at the end)."
   ]
  },
  {
   "cell_type": "code",
   "execution_count": 16,
   "metadata": {},
   "outputs": [
    {
     "name": "stdin",
     "output_type": "stream",
     "text": [
      "throw again (y/n)? y\n",
      "throw again (y/n)? y\n",
      "throw again (y/n)? y\n",
      "throw again (y/n)? y\n",
      "throw again (y/n)? y\n",
      "throw again (y/n)? y\n",
      "throw again (y/n)? n\n"
     ]
    }
   ],
   "source": [
    "\"\"\"This program sets simulates rolling an eight sided dice\n",
    "using a blinkstick to display the results.\n",
    "\n",
    "It was written by David Ingram for the Programming Skills for Engineers 2\n",
    "course.\n",
    "\n",
    "(c)2020 University of Edinburgh\n",
    "License: CC-BY\n",
    "\n",
    "It uses three variables:\n",
    "throw is the number rolled on the dice,\n",
    "bstick is the object used to talk to the blinkstick, and\n",
    "again is used to track if the user wishes to throw again.\n",
    "\"\"\"\n",
    "\n",
    "# we need a random number generator, and the blinkstick library\n",
    "import random\n",
    "from blinkstick import blinkstick\n",
    "\n",
    "def turn_off_all(stick):\n",
    "    \"this function turns off all the LEDs on the blink stick.\"\n",
    "    for led_number in range(0, 8):\n",
    "        stick.set_color(index=led_number, name=\"black\")\n",
    "\n",
    "# This is the MAIN programme\n",
    "\n",
    "# check a blinkstick is connected, and if it is find it.\n",
    "bstick = blinkstick.find_first()\n",
    "if bstick is None:\n",
    "    # No blink stick is conected so report an error.\n",
    "    print(\"The Blinkstick is not connected, either plug it in \" \\\n",
    "    +\" or check your USB cable supports data and power!\")\n",
    "else:\n",
    "    # we have found a blink stick.\n",
    "\n",
    "    again = \"y\" # Initialise AGAIN\n",
    "    while again == \"y\":\n",
    "        # generate a random integer in the range 1 to 8.\n",
    "        throw = random.randrange(1, 8)\n",
    "\n",
    "        # turn off all the LEDs\n",
    "        turn_off_all(bstick)\n",
    "\n",
    "        # now light that many LEDs\n",
    "        for led in range(0, throw):\n",
    "            bstick.set_color(index=led, name=\"green\")\n",
    "\n",
    "        # find out if we want to throw again\n",
    "        again = input('throw again (y/n)?')\n",
    "\n",
    "    # finish up, turn off all the LEDs\n",
    "    turn_off_all(bstick)\n",
    "\n",
    "    # and then turn off the blinkstick\n",
    "    bstick.turn_off()"
   ]
  },
  {
   "cell_type": "code",
   "execution_count": null,
   "metadata": {},
   "outputs": [],
   "source": []
  }
 ],
 "metadata": {
  "kernelspec": {
   "display_name": "Python 3",
   "language": "python",
   "name": "python3"
  },
  "language_info": {
   "codemirror_mode": {
    "name": "ipython",
    "version": 3
   },
   "file_extension": ".py",
   "mimetype": "text/x-python",
   "name": "python",
   "nbconvert_exporter": "python",
   "pygments_lexer": "ipython3",
   "version": "3.8.4"
  }
 },
 "nbformat": 4,
 "nbformat_minor": 4
}
