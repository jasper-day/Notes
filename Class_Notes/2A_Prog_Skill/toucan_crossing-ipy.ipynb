{
 "cells": [
  {
   "cell_type": "markdown",
   "metadata": {},
   "source": [
    "# Toucan Crossing\n",
    "\n",
    "Jasper Day \n",
    "S2265891\n",
    "\n",
    "Goal: Write a python program which uses a blinkstick to simulate the TOUCAN pedestrian crossing at the corner of Mayfeild Road and West Mains Road "
   ]
  },
  {
   "cell_type": "code",
   "execution_count": 76,
   "metadata": {},
   "outputs": [],
   "source": [
    "import blinkstick\n",
    "import matplotlib as mpt\n",
    "import numpy as np\n",
    "from enum import Enum\n",
    "import time"
   ]
  },
  {
   "cell_type": "markdown",
   "metadata": {},
   "source": [
    "# Traffic Light Table\n",
    "\n",
    "| Period | Use | Signal for Pedestrians | Signal for Vehicles | Timing | Variation |\n",
    "|--------|-----|------------------------|---------------------|--------|-----------|\n",
    "| I | Vehicle Running | Red | Green | 20 - 60 (ends at either max time or on pedestrian demand + gap. Vehicle actuation cancels gap for 6 sec) | Traffic volume |\n",
    "| II | Amber to Vehicles | Red | Amber | 3 | n/a |\n",
    "| III | Vehicle Clearance | Red | Red | 1 (gap in vehicles) - 3 (vehicle present) | Vehicle actuation |\n",
    "| IV | Pedestrian Crossing | Green | Red | 4 - 7 | Check maps |\n",
    "| V | Pedestrians keep crossing | Black | Red | 3 | n/a |\n",
    "| VI | Pedestrian clearance | Black | Red | 0 - 22 (pedestrian detection adds 2 sec) | Pedestrian actuation |\n",
    "| VII | Additional Pedestrian Crossing | Black | Red | 0 - 3 | Pedestrian detection |\n",
    "| VIII | All red | Red | Red | 1 - 3 | Free choice |\n",
    "| IX | Red / Amber to Vehicles | Red | Red/Amber | 2 | NA\n",
    "\n"
   ]
  },
  {
   "cell_type": "code",
   "execution_count": 77,
   "metadata": {},
   "outputs": [
    {
     "name": "stdout",
     "output_type": "stream",
     "text": [
      "window state 1\n",
      "Period.I\n"
     ]
    }
   ],
   "source": [
    "class Period(int, Enum):\n",
    "    # Enum type allows state comparison of our traffic light variable.\n",
    "    # `int` enum lets us augment state by addition operator +=\n",
    "    I = 1\n",
    "    II = 2\n",
    "    III = 3\n",
    "    IV = 4\n",
    "    V = 5\n",
    "    VI = 6\n",
    "    VII = 7\n",
    "    VIII = 8\n",
    "    IX = 9\n",
    "\n",
    "# class TrafficLight():\n",
    "#     # container class for our state\n",
    "#     def __init__(self):\n",
    "#         self.state = TrafficLightState.I\n",
    "\n",
    "# Size of the crosswalk simulation matrix. One square is 1 meter on a side.\n",
    "ROWS = 70\n",
    "COLUMNS = 30\n",
    "TIME = 0 # seconds\n",
    "\n",
    "class Scene():\n",
    "    scene = np.zeros([ROWS, COLUMNS])\n",
    "    state = Period.I            # global traffic light state\n",
    "    def simulation_step(self):  # advance simulation\n",
    "        TIME += 1\n",
    "        time.sleep(1)\n",
    "\n",
    "class TrafficLight(Scene):\n",
    "    pass\n",
    "\n",
    "class SceneObject(Scene):\n",
    "    def __init__(self, row_start, row_end, col_start, col_end):\n",
    "        if not (row_start < row_end < super().scene.shape[0] and col_start < col_end < super().scene.shape[1]):\n",
    "            # Check if bounds are valid\n",
    "            raise Exception(\"Incorrect bounds for object\") \n",
    "        self.row_start = row_start\n",
    "        self.row_end = row_end\n",
    "        self.col_start = col_start\n",
    "        self.col_end = col_end\n",
    "\n",
    "class Pedestrians(SceneObject):\n",
    "    pass\n",
    "\n",
    "class Car(SceneObject): # Contents of Address Register. just kidding.\n",
    "    pass\n",
    "\n",
    "window = Scene()\n",
    "\n",
    "pedestriandetector = SceneObject(35,50,7,17)\n",
    "\n",
    "print(f\"window state {window.state}\")\n",
    "print(pedestriandetector.state)\n"
   ]
  }
 ],
 "metadata": {
  "kernelspec": {
   "display_name": "Python 3.10.7 64-bit",
   "language": "python",
   "name": "python3"
  },
  "language_info": {
   "codemirror_mode": {
    "name": "ipython",
    "version": 3
   },
   "file_extension": ".py",
   "mimetype": "text/x-python",
   "name": "python",
   "nbconvert_exporter": "python",
   "pygments_lexer": "ipython3",
   "version": "3.10.7"
  },
  "orig_nbformat": 4,
  "vscode": {
   "interpreter": {
    "hash": "5f72e39dc5af8560c2b707da80c45ddb98f70569259101cf886c4d688409e605"
   }
  }
 },
 "nbformat": 4,
 "nbformat_minor": 2
}
