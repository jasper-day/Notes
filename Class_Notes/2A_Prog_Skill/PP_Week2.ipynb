{
  "cells": [
    {
      "cell_type": "markdown",
      "metadata": {
        "id": "lHvHvLxqZ157"
      },
      "source": [
        "# **Pair programming - Week 2**"
      ]
    },
    {
      "cell_type": "markdown",
      "metadata": {
        "id": "6LazMFm5aDnV"
      },
      "source": [
        "# **Exercise 1**\n",
        "\n",
        "**Create a program that asks the user for a number and identifies if the number is even or odd.**"
      ]
    },
    {
      "cell_type": "markdown",
      "metadata": {
        "id": "Cj6LK8TgadVC"
      },
      "source": [
        "**Step 1**: ask the user to input the number. Hint: you can use the function ```input```. You can read more about it [here](https://pynative.com/python-input-function-get-user-input/).\n",
        "\n"
      ]
    },
    {
      "cell_type": "code",
      "execution_count": 8,
      "metadata": {
        "id": "y4kg8XSxZnck"
      },
      "outputs": [
        {
          "name": "stdout",
          "output_type": "stream",
          "text": [
            "You input 12\n"
          ]
        }
      ],
      "source": [
        "res = input(\"Input a number: \")\n",
        "print(\"You input %s\"%res)"
      ]
    },
    {
      "cell_type": "markdown",
      "metadata": {
        "id": "7JjecGNDeXFS"
      },
      "source": [
        "The function `input` will input a string by default. We need to convert this to an integer. Check the use of the function `int` [here](https://www.programiz.com/python-programming/methods/built-in/int#:~:text=Join-,Python%20int(),%3D0%2C%20base%3D10))."
      ]
    },
    {
      "cell_type": "code",
      "execution_count": 9,
      "metadata": {
        "id": "-F6ahreWevNl"
      },
      "outputs": [],
      "source": [
        "try:\n",
        "    res_int = int(res)\n",
        "except:\n",
        "    print(\"Please input a number\")"
      ]
    },
    {
      "cell_type": "markdown",
      "metadata": {
        "id": "VqcNzg92bEXu"
      },
      "source": [
        "**Step 2**: check if the numer is even or odd. Hint: check the use of the modulus operator `%` [here](https://realpython.com/python-modulo-operator/)."
      ]
    },
    {
      "cell_type": "code",
      "execution_count": 11,
      "metadata": {
        "id": "bUsHUnGjbJbX"
      },
      "outputs": [],
      "source": [
        "modulus = res_int % 2"
      ]
    },
    {
      "cell_type": "markdown",
      "metadata": {
        "id": "PiMJH-2fbM_P"
      },
      "source": [
        "**Step 3**: complete the structure below so it print the correct solution. We have not seen conditionals yet in the course lectures, but their structure is quite straightforward: if the number is odd (its modulus will be bigger than zero), then print \"You picked an odd number\". Otherwise (if the number is even), then print \"You picked an even number\". Change \"operator\" and \"number\" by their correct values.\n",
        "\n",
        "```\n",
        "if mod <operator> <number>:\n",
        "    print(\"You picked an odd number.\")\n",
        "else:\n",
        "    print(\"You picked an even number.\")\n",
        "```"
      ]
    },
    {
      "cell_type": "code",
      "execution_count": 12,
      "metadata": {
        "id": "MwsFcLJrb5s0"
      },
      "outputs": [
        {
          "name": "stdout",
          "output_type": "stream",
          "text": [
            "12 is even\n"
          ]
        }
      ],
      "source": [
        "if modulus == 0:\n",
        "    print(\"%s is even\"%res_int)\n",
        "else:\n",
        "    print(\"%s is odd\"%res_int)"
      ]
    },
    {
      "cell_type": "markdown",
      "metadata": {
        "id": "C1PaPp21e5qb"
      },
      "source": [
        "# **Exercise 2**\n",
        "**Create a program that asks the user to enter their name and their age. Print out a message addressed to them that tells them the year that they will turn 100 years old.**"
      ]
    },
    {
      "cell_type": "markdown",
      "metadata": {
        "id": "x0-n7coVfhN4"
      },
      "source": [
        "**Step 1**: ask the user to input their name."
      ]
    },
    {
      "cell_type": "code",
      "execution_count": 17,
      "metadata": {
        "id": "g-5rPYURfrHK"
      },
      "outputs": [
        {
          "name": "stdout",
          "output_type": "stream",
          "text": [
            "Please remove those special characters\n",
            "Hello, Jasper\n"
          ]
        }
      ],
      "source": [
        "import re\n",
        "while 1:\n",
        "    username = input(\"Please input your name: \")\n",
        "    if re.search(\"[^a-zA-Z ]\", username):\n",
        "        print(\"Please remove those special characters\")\n",
        "    else:\n",
        "        break\n",
        "print(\"Hello, %s\"%username)"
      ]
    },
    {
      "cell_type": "markdown",
      "metadata": {
        "id": "H1OREQx7fuwc"
      },
      "source": [
        "**Step 2**: ask the user to input their age."
      ]
    },
    {
      "cell_type": "code",
      "execution_count": 25,
      "metadata": {
        "id": "uK7kkS6DfzPr"
      },
      "outputs": [
        {
          "name": "stdout",
          "output_type": "stream",
          "text": [
            "Your date information could not be parsed\n",
            "Your current age is: 22 years, 8 months, 26 days\n",
            "You will turn 100 years old in 78 years, -8 months, -26 days\n"
          ]
        }
      ],
      "source": [
        "import dateutil.parser\n",
        "import datetime\n",
        "import dateutil.relativedelta\n",
        "while 1:\n",
        "    userdob = input(\"Please input your date of birth: \")\n",
        "    try:\n",
        "        dob_parsed = dateutil.parser.parse(userdob)\n",
        "    except:\n",
        "        print(\"Your date information could not be parsed\")\n",
        "        continue\n",
        "    today = datetime.datetime.today()\n",
        "    age = dateutil.relativedelta.relativedelta(today, dob_parsed)\n",
        "    print(\"Your current age is: %s years, %s months, %s days\"%(age.years, age.months, age.days))\n",
        "    time_to_100 = (dateutil.relativedelta.relativedelta(years=+100) - age) \n",
        "    print(\"You will turn 100 years old in %s years, %s months, %s days\"%(time_to_100.years, time_to_100.months, time_to_100.days)) \n",
        "    break"
      ]
    },
    {
      "cell_type": "markdown",
      "metadata": {
        "id": "f_dgf9rOf2_5"
      },
      "source": [
        "Convert the age to an integer."
      ]
    },
    {
      "cell_type": "code",
      "execution_count": null,
      "metadata": {
        "id": "1kh1PHFDf5of"
      },
      "outputs": [],
      "source": []
    },
    {
      "cell_type": "markdown",
      "metadata": {
        "id": "iq-uSzLLf-zi"
      },
      "source": [
        "**Step 3**: Calculate the year they will turn 100."
      ]
    },
    {
      "cell_type": "code",
      "execution_count": null,
      "metadata": {
        "id": "5N4uDSVMgDPz"
      },
      "outputs": [],
      "source": []
    },
    {
      "cell_type": "markdown",
      "metadata": {
        "id": "WVpVHQDLgG03"
      },
      "source": [
        "**Step 4**: Display in screen the solution. Hint: you need to convert the integers to string using the function str in order to print them in line!"
      ]
    },
    {
      "cell_type": "code",
      "execution_count": null,
      "metadata": {
        "id": "R5adWX8Mfgbq"
      },
      "outputs": [],
      "source": []
    },
    {
      "cell_type": "markdown",
      "metadata": {
        "id": "F96oPWO7hRIa"
      },
      "source": [
        "# **Exercise 3**\n",
        "**Given two integer numbers return their product. If the product is greater than 1000, then return their sum.**\n"
      ]
    },
    {
      "cell_type": "markdown",
      "metadata": {
        "id": "Y9TNXfjlhX59"
      },
      "source": [
        "**Step 1:** Ask the user to input the two numbers."
      ]
    },
    {
      "cell_type": "code",
      "execution_count": null,
      "metadata": {
        "id": "QYfUqhO-hfru"
      },
      "outputs": [],
      "source": [
        "while 1:\n",
        "    res = input(\"Please input two numbers, separated with a comma: \")\n",
        "    try:\n",
        "        nums = res.split(',')\n",
        "    except:\n",
        "        print(\"Please separate the numbers with a comma\")\n",
        "        continue\n",
        "    if len(nums) != 2:\n",
        "        print(\"Please input two numbers only\")\n",
        "        continue\n",
        "    try:\n",
        "        num1 = int(nums[0])\n",
        "        num2 = int(nums[1])\n",
        "    except:\n",
        "        print(\"Please input two *numbers*\")"
      ]
    },
    {
      "cell_type": "markdown",
      "metadata": {
        "id": "YWzIGkjEjSLN"
      },
      "source": [
        "Convert both numbers to integers."
      ]
    },
    {
      "cell_type": "code",
      "execution_count": null,
      "metadata": {
        "id": "coTZrNHKjVF0"
      },
      "outputs": [],
      "source": []
    },
    {
      "cell_type": "markdown",
      "metadata": {
        "id": "Vptsae4Zh2PZ"
      },
      "source": [
        "**Step 2**: Calculate the product of both numbers."
      ]
    },
    {
      "cell_type": "code",
      "execution_count": null,
      "metadata": {
        "id": "GSAeE6JGhW17"
      },
      "outputs": [],
      "source": []
    },
    {
      "cell_type": "markdown",
      "metadata": {
        "id": "TfIromfWh_oK"
      },
      "source": [
        "**Step 3**: Copy-paste the following conditional in the next cell and finalise it. The coditional is checking if the number is smaller than 1,000. If that is true, it will print the product (XXX). If that is NOT true, then it will calculate and print the sum of both numbers (YYY).\n",
        "\n",
        "You need to fill in the correct items in lieu of XXX and YYY:\n",
        "```\n",
        "    if product <= 1000:\n",
        "        print(XXX)\n",
        "    else:\n",
        "        # product is greater than 1000 calculate sum\n",
        "        print(YYY)\n",
        "```\n",
        "\n"
      ]
    },
    {
      "cell_type": "code",
      "execution_count": null,
      "metadata": {
        "id": "juRlob63iwZB"
      },
      "outputs": [],
      "source": []
    },
    {
      "cell_type": "markdown",
      "metadata": {
        "id": "ulR03l6pmSn6"
      },
      "source": [
        "# **Exercise 4**\n",
        "\n",
        "**Write a program that accepts the radius of a circle from the user and compute the area.**"
      ]
    },
    {
      "cell_type": "markdown",
      "metadata": {
        "id": "cdB9JDOMmbuS"
      },
      "source": [
        "**Step 1**: Ask user for the radius of the circle."
      ]
    },
    {
      "cell_type": "code",
      "execution_count": null,
      "metadata": {
        "id": "bxPQGuqwmkLm"
      },
      "outputs": [],
      "source": []
    },
    {
      "cell_type": "markdown",
      "metadata": {
        "id": "OLfRvqe7moCY"
      },
      "source": [
        "Convert the radius to float so we can operate with it (remember, otherwise it's a string by default!)"
      ]
    },
    {
      "cell_type": "code",
      "execution_count": null,
      "metadata": {
        "id": "i2s6gTAmmvDs"
      },
      "outputs": [],
      "source": []
    },
    {
      "cell_type": "markdown",
      "metadata": {
        "id": "nrRJPmSWmz1f"
      },
      "source": [
        "**Step 2**: create the number `pi`. Four digits after the decimal point are enough for now."
      ]
    },
    {
      "cell_type": "code",
      "execution_count": null,
      "metadata": {
        "id": "2XxbmR8Ym73G"
      },
      "outputs": [],
      "source": []
    },
    {
      "cell_type": "markdown",
      "metadata": {
        "id": "WpiCx0IEnKsc"
      },
      "source": [
        "**Step 3**: calculate the area"
      ]
    },
    {
      "cell_type": "code",
      "execution_count": null,
      "metadata": {
        "id": "wA2nZMLynNo7"
      },
      "outputs": [],
      "source": []
    },
    {
      "cell_type": "markdown",
      "metadata": {
        "id": "21U9dma8nSQU"
      },
      "source": [
        "**Step 4**: print the result. Hint: you need to convert the integers to string using the function str in order to print them in line!"
      ]
    },
    {
      "cell_type": "code",
      "execution_count": null,
      "metadata": {
        "id": "l1hFUZJCmfjo"
      },
      "outputs": [],
      "source": []
    }
  ],
  "metadata": {
    "colab": {
      "collapsed_sections": [],
      "name": "Pair_programming_week1.ipynb",
      "provenance": []
    },
    "kernelspec": {
      "display_name": "Python 3.10.7 64-bit (microsoft store)",
      "language": "python",
      "name": "python3"
    },
    "language_info": {
      "codemirror_mode": {
        "name": "ipython",
        "version": 3
      },
      "file_extension": ".py",
      "mimetype": "text/x-python",
      "name": "python",
      "nbconvert_exporter": "python",
      "pygments_lexer": "ipython3",
      "version": "3.10.7"
    },
    "vscode": {
      "interpreter": {
        "hash": "3c6f676fb7e2b9be65ba2859ad7cbb5acedd0d7413ab82e9c5ec27a39d77e7c4"
      }
    }
  },
  "nbformat": 4,
  "nbformat_minor": 0
}
